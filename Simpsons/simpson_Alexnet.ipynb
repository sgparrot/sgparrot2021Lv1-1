{
  "nbformat": 4,
  "nbformat_minor": 0,
  "metadata": {
    "colab": {
      "name": "simpson_Alexnet",
      "provenance": [],
      "collapsed_sections": [
        "JBCjgoNH4E7b",
        "6-YsaZSRKp5B"
      ],
      "include_colab_link": true
    },
    "kernelspec": {
      "name": "python3",
      "display_name": "Python 3"
    },
    "language_info": {
      "name": "python"
    },
    "accelerator": "GPU"
  },
  "cells": [
    {
      "cell_type": "markdown",
      "metadata": {
        "id": "view-in-github",
        "colab_type": "text"
      },
      "source": [
        "<a href=\"https://colab.research.google.com/github/sgparrot/sgparrot2021Lv1-1/blob/main/simpson_Alexnet.ipynb\" target=\"_parent\"><img src=\"https://colab.research.google.com/assets/colab-badge.svg\" alt=\"Open In Colab\"/></a>"
      ]
    },
    {
      "cell_type": "markdown",
      "metadata": {
        "id": "JBCjgoNH4E7b"
      },
      "source": [
        "####메소드와 데이터 확인"
      ]
    },
    {
      "cell_type": "code",
      "metadata": {
        "id": "Crx4ZgA6MvoR"
      },
      "source": [
        "import numpy as np\n",
        "import pandas as pd\n",
        "import matplotlib.pyplot as plt\n",
        "import glob\n",
        "import cv2\n",
        "import tensorflow as tf\n",
        "from tensorflow.keras import layers\n",
        "from tensorflow.keras.utils import to_categorical\n",
        "from tensorflow.keras.models import Sequential\n",
        "from tensorflow.keras.layers import Conv2D, MaxPooling2D, Dense, Flatten\n",
        "from keras.preprocessing import image\n",
        "import os\n",
        "import random"
      ],
      "execution_count": 4,
      "outputs": []
    },
    {
      "cell_type": "code",
      "metadata": {
        "id": "jauZVdjaBven",
        "colab": {
          "base_uri": "https://localhost:8080/"
        },
        "outputId": "fda7035f-a202-4a2a-eda0-6af1408c6fa0"
      },
      "source": [
        "from google.colab import drive\n",
        "drive.mount('/content/drive')"
      ],
      "execution_count": 5,
      "outputs": [
        {
          "output_type": "stream",
          "text": [
            "Drive already mounted at /content/drive; to attempt to forcibly remount, call drive.mount(\"/content/drive\", force_remount=True).\n"
          ],
          "name": "stdout"
        }
      ]
    },
    {
      "cell_type": "code",
      "metadata": {
        "id": "oMHV4kis3paK"
      },
      "source": [
        "img_dir='/content/drive/MyDrive/simpson_train'\n",
        "target=os.listdir(img_dir)\n",
        "target.sort()\n",
        "\n",
        "category={}\n",
        "for i, name in enumerate(target):\n",
        "    category[i]=name\n",
        "\n",
        "print(target)\n",
        "print(category)"
      ],
      "execution_count": null,
      "outputs": []
    },
    {
      "cell_type": "code",
      "metadata": {
        "id": "mUfzi4nn3zoY"
      },
      "source": [
        "bart=glob.glob('/content/drive/MyDrive/simpson_train/bart/*.jpg')\n",
        "fig = plt.figure(figsize=(10,10))\n",
        "for i, path in enumerate(bart[:9]) :\n",
        "    img = image.load_img(path, target_size=(250, 250))\n",
        "    plt.subplot(3,3,i+1)\n",
        "    plt.imshow(img)\n",
        "plt.show()"
      ],
      "execution_count": null,
      "outputs": []
    },
    {
      "cell_type": "markdown",
      "metadata": {
        "id": "6-YsaZSRKp5B"
      },
      "source": [
        "\n",
        "\n",
        "#### Generating Train & Test Set"
      ]
    },
    {
      "cell_type": "code",
      "metadata": {
        "colab": {
          "base_uri": "https://localhost:8080/"
        },
        "id": "utjpb3U29sDz",
        "outputId": "6dd064b2-2982-45eb-c6c8-b2acba72892d"
      },
      "source": [
        "X_train_list = []\n",
        "y_train_list = []\n",
        "\n",
        "for key, value in category.items():\n",
        "\n",
        "    print(value)\n",
        "    images = glob.glob(\"/content/drive/MyDrive/simpson_train/{0}/*.jpg\".format(value))\n",
        "\n",
        "    for image in images:\n",
        "        \n",
        "        image_bgr = cv2.imread(image)\n",
        "        image_rgb = cv2.cvtColor(image_bgr, cv2.COLOR_BGR2RGB)\n",
        "        image_reshaped = cv2.resize(image_rgb, dsize=(128, 128), interpolation=cv2.INTER_AREA)\n",
        "\n",
        "        X_train_list.append(image_reshaped)\n",
        "        y_train_list.append(key)"
      ],
      "execution_count": null,
      "outputs": [
        {
          "output_type": "stream",
          "text": [
            "bart\n",
            "charles_montgomery\n",
            "krusty\n",
            "lisa_simpson\n",
            "marge_simpson\n",
            "milhouse_van_houten\n",
            "moe_szyslak\n",
            "ned_flanders\n",
            "principal_skinner\n"
          ],
          "name": "stdout"
        }
      ]
    },
    {
      "cell_type": "code",
      "metadata": {
        "id": "3SWjn2mxwu53"
      },
      "source": [
        "X_train = np.array(X_train_list)\n",
        "y_train = np.array(y_train_list)"
      ],
      "execution_count": null,
      "outputs": []
    },
    {
      "cell_type": "code",
      "metadata": {
        "id": "NmkSbFvR_Dzp",
        "colab": {
          "base_uri": "https://localhost:8080/"
        },
        "outputId": "e5c1a195-4ab8-400c-d7b8-89860d77b607"
      },
      "source": [
        "print(\"X_train shape: \", X_train.shape)\n",
        "print(\"y_train shape: \", y_train.shape)"
      ],
      "execution_count": null,
      "outputs": [
        {
          "output_type": "stream",
          "text": [
            "X_train shape:  (11248, 128, 128, 3)\n",
            "y_train shape:  (11248,)\n"
          ],
          "name": "stdout"
        }
      ]
    },
    {
      "cell_type": "code",
      "metadata": {
        "id": "kEj77tTj0AN3"
      },
      "source": [
        "np.savez(\"/content/drive/MyDrive/simpson_train/train_128_npz\",\n",
        "         X_train_npz=X_train, y_train_npz=y_train)"
      ],
      "execution_count": null,
      "outputs": []
    },
    {
      "cell_type": "code",
      "metadata": {
        "id": "NKWt4YyJMXfi"
      },
      "source": [
        "X_test_list = []\n",
        "y_test_list = pd.read_csv(\"/content/drive/MyDrive/simpson_test/test_sample.csv\")"
      ],
      "execution_count": null,
      "outputs": []
    },
    {
      "cell_type": "code",
      "metadata": {
        "id": "3m7hBJnnMXce"
      },
      "source": [
        "images = glob.glob(\"/content/drive/MyDrive/simpson_test/*.jpg\")\n",
        "images.sort()\n",
        "for image in images:\n",
        "        \n",
        "    image_bgr = cv2.imread(image)\n",
        "    image_rgb = cv2.cvtColor(image_bgr, cv2.COLOR_BGR2RGB)\n",
        "    image_reshaped = cv2.resize(image_rgb, dsize=(128, 128), interpolation=cv2.INTER_AREA)\n",
        "\n",
        "    X_test_list.append(image_reshaped)"
      ],
      "execution_count": null,
      "outputs": []
    },
    {
      "cell_type": "code",
      "metadata": {
        "id": "dcjlm4kqMXWd"
      },
      "source": [
        "X_test = np.array(X_test_list)\n",
        "y_test = np.array(y_test_list[\"files\"])"
      ],
      "execution_count": null,
      "outputs": []
    },
    {
      "cell_type": "code",
      "metadata": {
        "colab": {
          "base_uri": "https://localhost:8080/"
        },
        "id": "C1lsHlXHRLAE",
        "outputId": "4a79204e-8a5e-4234-b6a4-027f1d9666a6"
      },
      "source": [
        "print(\"X_test shape: {}\".format(X_test.shape))\n",
        "print(\"y_test shape: {}\".format(y_test.shape))"
      ],
      "execution_count": null,
      "outputs": [
        {
          "output_type": "stream",
          "text": [
            "X_test shape: (1086, 128, 128, 3)\n",
            "y_test shape: (1086,)\n"
          ],
          "name": "stdout"
        }
      ]
    },
    {
      "cell_type": "code",
      "metadata": {
        "id": "i1HLzAEWK-36"
      },
      "source": [
        "np.savez(\"/content/drive/MyDrive/test_128_npz\",\n",
        "         X_test_npz=X_test, y_test_npz=y_test)"
      ],
      "execution_count": null,
      "outputs": []
    },
    {
      "cell_type": "markdown",
      "metadata": {
        "id": "0aHV4zIYALQe"
      },
      "source": [
        "#### Data Load"
      ]
    },
    {
      "cell_type": "code",
      "metadata": {
        "id": "W_4JJK00AUP0"
      },
      "source": [
        "train_dataset = np.load(\"/content/drive/MyDrive/train_224_npz.npz\")\n",
        "test_dataset = np.load(\"/content/drive/MyDrive/test_224_npz.npz\")"
      ],
      "execution_count": 6,
      "outputs": []
    },
    {
      "cell_type": "code",
      "metadata": {
        "id": "Lx1PDkOsAUNY"
      },
      "source": [
        "X_train = train_dataset[\"X_train_npz\"]\n",
        "y_train = train_dataset[\"y_train_npz\"]\n",
        "\n",
        "y_train = to_categorical(y_train, 9)\n",
        "\n",
        "X_test = test_dataset[\"X_test_npz\"]\n",
        "y_test_list = pd.read_csv(\"/content/drive/MyDrive/simpson_test/test_sample.csv\")\n",
        "y_test = np.array(y_test_list[\"files\"])"
      ],
      "execution_count": 7,
      "outputs": []
    },
    {
      "cell_type": "code",
      "metadata": {
        "colab": {
          "base_uri": "https://localhost:8080/"
        },
        "id": "OrMpUfq4AUJo",
        "outputId": "4420046f-1727-4e65-e9fe-1fa5a18a3d5f"
      },
      "source": [
        "print(\"X_train shape: {}\".format(X_train.shape))\n",
        "print(\"y_train shape: {}\".format(y_train.shape))\n",
        "print(\"X_test shape: {}\".format(X_test.shape))\n",
        "print(\"y_test shape: {}\".format(y_test.shape))"
      ],
      "execution_count": 8,
      "outputs": [
        {
          "output_type": "stream",
          "text": [
            "X_train shape: (11248, 224, 224, 3)\n",
            "y_train shape: (11248, 9)\n",
            "X_test shape: (1086, 224, 224, 3)\n",
            "y_test shape: (1086,)\n"
          ],
          "name": "stdout"
        }
      ]
    },
    {
      "cell_type": "code",
      "metadata": {
        "colab": {
          "base_uri": "https://localhost:8080/"
        },
        "id": "0l8NERPO-N9h",
        "outputId": "0b882ca5-501c-48b4-8d8f-60e76dd3ee4a"
      },
      "source": [
        "from sklearn.model_selection import train_test_split\n",
        "\n",
        "X_train, X_val, y_train, y_val = train_test_split(X_train, y_train, test_size=0.2, random_state=45)\n",
        "print(\"X_train shape: {}\".format(X_train.shape))\n",
        "print(\"X_val shape: {}\".format(X_val.shape))\n",
        "print(\"y_train shape: {}\".format(y_train.shape))\n",
        "print(\"y_val shape: {}\".format(y_val.shape))"
      ],
      "execution_count": 9,
      "outputs": [
        {
          "output_type": "stream",
          "text": [
            "X_train shape: (8998, 224, 224, 3)\n",
            "X_val shape: (2250, 224, 224, 3)\n",
            "y_train shape: (8998, 9)\n",
            "y_val shape: (2250, 9)\n"
          ],
          "name": "stdout"
        }
      ]
    },
    {
      "cell_type": "markdown",
      "metadata": {
        "id": "rZfLvp29CAOf"
      },
      "source": [
        "#### Defining Data Generator\n"
      ]
    },
    {
      "cell_type": "code",
      "metadata": {
        "id": "raD3Xl28DeE5"
      },
      "source": [
        "from keras.preprocessing.image import ImageDataGenerator, load_img\n",
        "from tensorflow.keras.utils import to_categorical\n",
        "from sklearn.model_selection import train_test_split"
      ],
      "execution_count": 8,
      "outputs": []
    },
    {
      "cell_type": "code",
      "metadata": {
        "id": "C7RtL8V0AOI6"
      },
      "source": [
        "train_datagen=ImageDataGenerator(\n",
        "    rotation_range=15,\n",
        "    zoom_range=0.2,\n",
        "    horizontal_flip=True,\n",
        "    width_shift_range=0.2,\n",
        "    height_shift_range=0.2,\n",
        "    shear_range=0.2\n",
        ")"
      ],
      "execution_count": 9,
      "outputs": []
    },
    {
      "cell_type": "code",
      "metadata": {
        "id": "Gesf-ga8C-vR"
      },
      "source": [
        "train_datagen.fit(X_train)"
      ],
      "execution_count": null,
      "outputs": []
    },
    {
      "cell_type": "markdown",
      "metadata": {
        "id": "KBj-2pi80FOl"
      },
      "source": [
        "##modeling"
      ]
    },
    {
      "cell_type": "code",
      "metadata": {
        "id": "1khOaYjPA9PS"
      },
      "source": [
        "from tensorflow import keras\n",
        "from tensorflow.keras import layers\n",
        "from keras.models import Sequential\n",
        "from keras.layers import Dense\n",
        "from keras.layers import Flatten\n",
        "from keras.layers import GlobalAveragePooling2D\n",
        "from keras.layers import Dropout\n",
        "from keras.layers import BatchNormalization\n",
        "from keras.layers import Activation\n",
        "from keras.layers.convolutional import Conv2D\n",
        "from keras.layers.convolutional import MaxPooling2D\n",
        "from keras.layers.convolutional import ZeroPadding2D\n",
        "from keras.optimizers import SGD\n",
        "from keras.utils import np_utils\n",
        "from keras.preprocessing.image import ImageDataGenerator\n",
        "from keras.models import load_model\n",
        "import matplotlib.pyplot as plt\n",
        "from tensorflow.keras.utils import to_categorical"
      ],
      "execution_count": 10,
      "outputs": []
    },
    {
      "cell_type": "code",
      "metadata": {
        "colab": {
          "base_uri": "https://localhost:8080/"
        },
        "id": "bjQ_a0fexJ2N",
        "outputId": "0bf95cde-5280-4ce8-9648-4a137bc49364"
      },
      "source": [
        "model=Sequential()\n",
        "\n",
        "model.add(Conv2D(96,(11,11),strides=4, input_shape=(224,224,3),activation='relu'))\n",
        "model.add(MaxPooling2D(pool_size=(3,3),strides=2))\n",
        "model.add(BatchNormalization())\n",
        "\n",
        "model.add(ZeroPadding2D(2))\n",
        "model.add(Conv2D(256,(5,5),strides=1,activation='relu'))\n",
        "model.add(MaxPooling2D(pool_size=(3,3),strides=2))\n",
        "model.add(BatchNormalization())\n",
        "\n",
        "model.add(ZeroPadding2D(1))\n",
        "model.add(Conv2D(384,(3,3), strides=1, activation='relu'))\n",
        "\n",
        "model.add(ZeroPadding2D(1))\n",
        "model.add(Conv2D(384,(3,3), strides=1, activation='relu'))\n",
        "\n",
        "model.add(ZeroPadding2D(1))\n",
        "model.add(Conv2D(256,(3,3), strides=1, activation='relu'))\n",
        "model.add(MaxPooling2D(pool_size=(3,3), strides=2))\n",
        "\n",
        "#Flatten->GlobalAveragePooling\n",
        "model.add(GlobalAveragePooling2D())\n",
        "\n",
        "model.add(Dense(4096, activation='relu'))\n",
        "model.add(Dropout(0.3))\n",
        "\n",
        "model.add(Dense(4096, activation='relu'))\n",
        "model.add(Dropout(0.3))\n",
        "\n",
        "model.add(Dense(9, activation='softmax'))\n",
        "\n",
        "model.summary()"
      ],
      "execution_count": 12,
      "outputs": [
        {
          "output_type": "stream",
          "text": [
            "Model: \"sequential_1\"\n",
            "_________________________________________________________________\n",
            "Layer (type)                 Output Shape              Param #   \n",
            "=================================================================\n",
            "conv2d_5 (Conv2D)            (None, 54, 54, 96)        34944     \n",
            "_________________________________________________________________\n",
            "max_pooling2d_3 (MaxPooling2 (None, 26, 26, 96)        0         \n",
            "_________________________________________________________________\n",
            "batch_normalization_2 (Batch (None, 26, 26, 96)        384       \n",
            "_________________________________________________________________\n",
            "zero_padding2d_4 (ZeroPaddin (None, 30, 30, 96)        0         \n",
            "_________________________________________________________________\n",
            "conv2d_6 (Conv2D)            (None, 26, 26, 256)       614656    \n",
            "_________________________________________________________________\n",
            "max_pooling2d_4 (MaxPooling2 (None, 12, 12, 256)       0         \n",
            "_________________________________________________________________\n",
            "batch_normalization_3 (Batch (None, 12, 12, 256)       1024      \n",
            "_________________________________________________________________\n",
            "zero_padding2d_5 (ZeroPaddin (None, 14, 14, 256)       0         \n",
            "_________________________________________________________________\n",
            "conv2d_7 (Conv2D)            (None, 12, 12, 384)       885120    \n",
            "_________________________________________________________________\n",
            "zero_padding2d_6 (ZeroPaddin (None, 14, 14, 384)       0         \n",
            "_________________________________________________________________\n",
            "conv2d_8 (Conv2D)            (None, 12, 12, 384)       1327488   \n",
            "_________________________________________________________________\n",
            "zero_padding2d_7 (ZeroPaddin (None, 14, 14, 384)       0         \n",
            "_________________________________________________________________\n",
            "conv2d_9 (Conv2D)            (None, 12, 12, 256)       884992    \n",
            "_________________________________________________________________\n",
            "max_pooling2d_5 (MaxPooling2 (None, 5, 5, 256)         0         \n",
            "_________________________________________________________________\n",
            "global_average_pooling2d_1 ( (None, 256)               0         \n",
            "_________________________________________________________________\n",
            "dense_3 (Dense)              (None, 4096)              1052672   \n",
            "_________________________________________________________________\n",
            "dropout_2 (Dropout)          (None, 4096)              0         \n",
            "_________________________________________________________________\n",
            "dense_4 (Dense)              (None, 4096)              16781312  \n",
            "_________________________________________________________________\n",
            "dropout_3 (Dropout)          (None, 4096)              0         \n",
            "_________________________________________________________________\n",
            "dense_5 (Dense)              (None, 9)                 36873     \n",
            "=================================================================\n",
            "Total params: 21,619,465\n",
            "Trainable params: 21,618,761\n",
            "Non-trainable params: 704\n",
            "_________________________________________________________________\n"
          ],
          "name": "stdout"
        }
      ]
    },
    {
      "cell_type": "code",
      "metadata": {
        "id": "QmxUGCyrOsSn"
      },
      "source": [
        "from tensorflow.keras.callbacks import EarlyStopping, ModelCheckpoint, LearningRateScheduler\n",
        "from tensorflow.keras.optimizers import Adam\n",
        "\n",
        "earlystop = EarlyStopping(monitor=\"val_accuracy\", min_delta=0, patience=10,\n",
        "                          verbose=1, mode=\"auto\", baseline=None,\n",
        "                          restore_best_weights=True)  \n",
        "\n",
        "model.compile(optimizer='adam', loss=\"categorical_crossentropy\",\n",
        "                  metrics=[\"accuracy\"])"
      ],
      "execution_count": 27,
      "outputs": []
    },
    {
      "cell_type": "markdown",
      "metadata": {
        "id": "Rv4KMaUY0JAN"
      },
      "source": [
        "## results\n"
      ]
    },
    {
      "cell_type": "code",
      "metadata": {
        "colab": {
          "base_uri": "https://localhost:8080/"
        },
        "id": "ClzF-6EdJtki",
        "outputId": "776773e4-3d37-4424-ba22-1f5e5cfb4173"
      },
      "source": [
        "history = model.fit(X_train, y_train, batch_size = 32, validation_data=(X_val,y_val), epochs=50)"
      ],
      "execution_count": 29,
      "outputs": [
        {
          "output_type": "stream",
          "text": [
            "Epoch 1/50\n",
            "282/282 [==============================] - 24s 86ms/step - loss: 0.0836 - accuracy: 0.9862 - val_loss: 1.2875 - val_accuracy: 0.9213\n",
            "Epoch 2/50\n",
            "282/282 [==============================] - 24s 85ms/step - loss: 0.0609 - accuracy: 0.9891 - val_loss: 1.1690 - val_accuracy: 0.9387\n",
            "Epoch 3/50\n",
            "282/282 [==============================] - 24s 85ms/step - loss: 0.0329 - accuracy: 0.9920 - val_loss: 0.9934 - val_accuracy: 0.9289\n",
            "Epoch 4/50\n",
            "282/282 [==============================] - 24s 85ms/step - loss: 0.0814 - accuracy: 0.9846 - val_loss: 1.0537 - val_accuracy: 0.9204\n",
            "Epoch 5/50\n",
            "282/282 [==============================] - 24s 85ms/step - loss: 0.0668 - accuracy: 0.9867 - val_loss: 0.8148 - val_accuracy: 0.9093\n",
            "Epoch 6/50\n",
            "282/282 [==============================] - 24s 85ms/step - loss: 0.0618 - accuracy: 0.9879 - val_loss: 1.3249 - val_accuracy: 0.8787\n",
            "Epoch 7/50\n",
            "282/282 [==============================] - 24s 85ms/step - loss: 0.1156 - accuracy: 0.9766 - val_loss: 0.6176 - val_accuracy: 0.9244\n",
            "Epoch 8/50\n",
            "282/282 [==============================] - 24s 85ms/step - loss: 0.0666 - accuracy: 0.9884 - val_loss: 0.7062 - val_accuracy: 0.9116\n",
            "Epoch 9/50\n",
            "282/282 [==============================] - 24s 85ms/step - loss: 0.0596 - accuracy: 0.9849 - val_loss: 0.4652 - val_accuracy: 0.9320\n",
            "Epoch 10/50\n",
            "282/282 [==============================] - 24s 85ms/step - loss: 0.0388 - accuracy: 0.9917 - val_loss: 0.7083 - val_accuracy: 0.9338\n",
            "Epoch 11/50\n",
            "282/282 [==============================] - 24s 85ms/step - loss: 0.1084 - accuracy: 0.9809 - val_loss: 0.9334 - val_accuracy: 0.8511\n",
            "Epoch 12/50\n",
            "282/282 [==============================] - 24s 85ms/step - loss: 0.2503 - accuracy: 0.9578 - val_loss: 0.7061 - val_accuracy: 0.9156\n",
            "Epoch 13/50\n",
            "282/282 [==============================] - 24s 85ms/step - loss: 0.0928 - accuracy: 0.9833 - val_loss: 0.7615 - val_accuracy: 0.8644\n",
            "Epoch 14/50\n",
            "282/282 [==============================] - 24s 85ms/step - loss: 0.1058 - accuracy: 0.9787 - val_loss: 0.8397 - val_accuracy: 0.8871\n",
            "Epoch 15/50\n",
            "282/282 [==============================] - 24s 85ms/step - loss: 0.0751 - accuracy: 0.9843 - val_loss: 0.5273 - val_accuracy: 0.9356\n",
            "Epoch 16/50\n",
            "282/282 [==============================] - 24s 85ms/step - loss: 0.0352 - accuracy: 0.9949 - val_loss: 0.6453 - val_accuracy: 0.9213\n",
            "Epoch 17/50\n",
            "282/282 [==============================] - 24s 85ms/step - loss: 0.0250 - accuracy: 0.9941 - val_loss: 0.5408 - val_accuracy: 0.9391\n",
            "Epoch 18/50\n",
            "282/282 [==============================] - 24s 85ms/step - loss: 0.0378 - accuracy: 0.9918 - val_loss: 0.5275 - val_accuracy: 0.9280\n",
            "Epoch 19/50\n",
            "282/282 [==============================] - 24s 85ms/step - loss: 0.0641 - accuracy: 0.9872 - val_loss: 0.9313 - val_accuracy: 0.9142\n",
            "Epoch 20/50\n",
            "282/282 [==============================] - 24s 85ms/step - loss: 0.1495 - accuracy: 0.9757 - val_loss: 0.7882 - val_accuracy: 0.8524\n",
            "Epoch 21/50\n",
            "282/282 [==============================] - 24s 85ms/step - loss: 0.1401 - accuracy: 0.9727 - val_loss: 0.7181 - val_accuracy: 0.8836\n",
            "Epoch 22/50\n",
            "282/282 [==============================] - 24s 85ms/step - loss: 0.0479 - accuracy: 0.9907 - val_loss: 0.6176 - val_accuracy: 0.9387\n",
            "Epoch 23/50\n",
            "282/282 [==============================] - 24s 85ms/step - loss: 0.0449 - accuracy: 0.9931 - val_loss: 0.6922 - val_accuracy: 0.9382\n",
            "Epoch 24/50\n",
            "282/282 [==============================] - 25s 87ms/step - loss: 0.0239 - accuracy: 0.9950 - val_loss: 2.5272 - val_accuracy: 0.9058\n",
            "Epoch 25/50\n",
            "282/282 [==============================] - 24s 85ms/step - loss: 0.1052 - accuracy: 0.9866 - val_loss: 0.8097 - val_accuracy: 0.8756\n",
            "Epoch 26/50\n",
            "282/282 [==============================] - 24s 85ms/step - loss: 0.0364 - accuracy: 0.9924 - val_loss: 0.8603 - val_accuracy: 0.9262\n",
            "Epoch 27/50\n",
            "282/282 [==============================] - 24s 85ms/step - loss: 0.0561 - accuracy: 0.9911 - val_loss: 0.5579 - val_accuracy: 0.9178\n",
            "Epoch 28/50\n",
            "282/282 [==============================] - 24s 85ms/step - loss: 0.0489 - accuracy: 0.9906 - val_loss: 0.8453 - val_accuracy: 0.9107\n",
            "Epoch 29/50\n",
            "282/282 [==============================] - 24s 85ms/step - loss: 0.0651 - accuracy: 0.9891 - val_loss: 0.6641 - val_accuracy: 0.9249\n",
            "Epoch 30/50\n",
            "282/282 [==============================] - 24s 85ms/step - loss: 0.0897 - accuracy: 0.9850 - val_loss: 0.6903 - val_accuracy: 0.9013\n",
            "Epoch 31/50\n",
            "282/282 [==============================] - 24s 85ms/step - loss: 0.0897 - accuracy: 0.9847 - val_loss: 0.6977 - val_accuracy: 0.9036\n",
            "Epoch 32/50\n",
            "282/282 [==============================] - 25s 88ms/step - loss: 0.0396 - accuracy: 0.9907 - val_loss: 0.9385 - val_accuracy: 0.9111\n",
            "Epoch 33/50\n",
            "282/282 [==============================] - 24s 85ms/step - loss: 0.1152 - accuracy: 0.9772 - val_loss: 1.1371 - val_accuracy: 0.8858\n",
            "Epoch 34/50\n",
            "282/282 [==============================] - 24s 85ms/step - loss: 0.0471 - accuracy: 0.9901 - val_loss: 1.1294 - val_accuracy: 0.9227\n",
            "Epoch 35/50\n",
            "282/282 [==============================] - 24s 85ms/step - loss: 0.1689 - accuracy: 0.9819 - val_loss: 2.3752 - val_accuracy: 0.7329\n",
            "Epoch 36/50\n",
            "282/282 [==============================] - 24s 85ms/step - loss: 0.1465 - accuracy: 0.9758 - val_loss: 0.7379 - val_accuracy: 0.9178\n",
            "Epoch 37/50\n",
            "282/282 [==============================] - 24s 85ms/step - loss: 0.0362 - accuracy: 0.9912 - val_loss: 0.8740 - val_accuracy: 0.9240\n",
            "Epoch 38/50\n",
            "282/282 [==============================] - 24s 85ms/step - loss: 0.0283 - accuracy: 0.9931 - val_loss: 0.8570 - val_accuracy: 0.9293\n",
            "Epoch 39/50\n",
            "282/282 [==============================] - 24s 85ms/step - loss: 0.0216 - accuracy: 0.9944 - val_loss: 1.0389 - val_accuracy: 0.9227\n",
            "Epoch 40/50\n",
            "282/282 [==============================] - 24s 85ms/step - loss: 0.0452 - accuracy: 0.9939 - val_loss: 1.7728 - val_accuracy: 0.8724\n",
            "Epoch 41/50\n",
            "282/282 [==============================] - 24s 85ms/step - loss: 0.1111 - accuracy: 0.9781 - val_loss: 0.8405 - val_accuracy: 0.9267\n",
            "Epoch 42/50\n",
            "282/282 [==============================] - 24s 85ms/step - loss: 0.0850 - accuracy: 0.9880 - val_loss: 1.6348 - val_accuracy: 0.8480\n",
            "Epoch 43/50\n",
            "282/282 [==============================] - 24s 85ms/step - loss: 0.0344 - accuracy: 0.9929 - val_loss: 0.9155 - val_accuracy: 0.9360\n",
            "Epoch 44/50\n",
            "282/282 [==============================] - 24s 85ms/step - loss: 0.0713 - accuracy: 0.9864 - val_loss: 1.0448 - val_accuracy: 0.9200\n",
            "Epoch 45/50\n",
            "282/282 [==============================] - 24s 85ms/step - loss: 0.0579 - accuracy: 0.9887 - val_loss: 1.1433 - val_accuracy: 0.9258\n",
            "Epoch 46/50\n",
            "282/282 [==============================] - 24s 85ms/step - loss: 0.0405 - accuracy: 0.9918 - val_loss: 1.0550 - val_accuracy: 0.9222\n",
            "Epoch 47/50\n",
            "282/282 [==============================] - 24s 85ms/step - loss: 0.0854 - accuracy: 0.9902 - val_loss: 0.9760 - val_accuracy: 0.8507\n",
            "Epoch 48/50\n",
            "282/282 [==============================] - 24s 85ms/step - loss: 0.1284 - accuracy: 0.9817 - val_loss: 1.1958 - val_accuracy: 0.9044\n",
            "Epoch 49/50\n",
            "282/282 [==============================] - 24s 85ms/step - loss: 0.1504 - accuracy: 0.9817 - val_loss: 0.6171 - val_accuracy: 0.8947\n",
            "Epoch 50/50\n",
            "282/282 [==============================] - 24s 85ms/step - loss: 0.0466 - accuracy: 0.9904 - val_loss: 0.5476 - val_accuracy: 0.9276\n"
          ],
          "name": "stdout"
        }
      ]
    },
    {
      "cell_type": "code",
      "metadata": {
        "id": "WUdTv9jOJQjI",
        "colab": {
          "base_uri": "https://localhost:8080/",
          "height": 279
        },
        "outputId": "032f3a93-1d9a-4cb5-aff4-cc742bae4649"
      },
      "source": [
        "fig, loss_ax=plt.subplots()\n",
        "acc_ax=loss_ax.twinx()\n",
        "loss_ax.plot(history.history['loss'],'y',label='train loss')\n",
        "loss_ax.plot(history.history['val_loss'],'r',label = 'val loss')\n",
        "acc_ax.plot(history.history['accuracy'],'b',label='train acc')\n",
        "acc_ax.plot(history.history['val_accuracy'], 'g', label='val_accuracy')\n",
        "loss_ax.set_xlabel('epoch')\n",
        "loss_ax.set_ylabel('loss')\n",
        "acc_ax.set_ylabel('accuracy')\n",
        "loss_ax.legend(loc='upper left')\n",
        "loss_ax.legend(loc='lower left')\n",
        "plt.show()"
      ],
      "execution_count": 31,
      "outputs": [
        {
          "output_type": "display_data",
          "data": {
            "image/png": "[encoded data removed]",
            "text/plain": [
              "<Figure size 432x288 with 2 Axes>"
            ]
          },
          "metadata": {
            "tags": [],
            "needs_background": "light"
          }
        }
      ]
    },
    {
      "cell_type": "code",
      "metadata": {
        "id": "tOPTD7Rr6cMt"
      },
      "source": [
        "model.save('alexforsimpson.h5')"
      ],
      "execution_count": 32,
      "outputs": []
    },
    {
      "cell_type": "markdown",
      "metadata": {
        "id": "m5TC6ArRIsBj"
      },
      "source": [
        "#### 답안"
      ]
    },
    {
      "cell_type": "code",
      "metadata": {
        "id": "CJnoLUy5KN9T"
      },
      "source": [
        "import io\n",
        "y_test_list = pd.read_csv('/content/drive/MyDrive/test.csv',index_col=0)"
      ],
      "execution_count": 23,
      "outputs": []
    },
    {
      "cell_type": "code",
      "metadata": {
        "colab": {
          "base_uri": "https://localhost:8080/",
          "height": 650
        },
        "id": "l4S_emZuJxSL",
        "outputId": "a9b7fb46-9a54-477f-d4f1-78e9ccd7b92d"
      },
      "source": [
        "y_test = y_test_list[\"pred\"]\n",
        "y_test"
      ],
      "execution_count": 30,
      "outputs": [
        {
          "output_type": "error",
          "ename": "KeyError",
          "evalue": "ignored",
          "traceback": [
            "\u001b[0;31m---------------------------------------------------------------------------\u001b[0m",
            "\u001b[0;31mKeyError\u001b[0m                                  Traceback (most recent call last)",
            "\u001b[0;32m/usr/local/lib/python3.7/dist-packages/pandas/core/indexes/base.py\u001b[0m in \u001b[0;36mget_loc\u001b[0;34m(self, key, method, tolerance)\u001b[0m\n\u001b[1;32m   2897\u001b[0m             \u001b[0;32mtry\u001b[0m\u001b[0;34m:\u001b[0m\u001b[0;34m\u001b[0m\u001b[0;34m\u001b[0m\u001b[0m\n\u001b[0;32m-> 2898\u001b[0;31m                 \u001b[0;32mreturn\u001b[0m \u001b[0mself\u001b[0m\u001b[0;34m.\u001b[0m\u001b[0m_engine\u001b[0m\u001b[0;34m.\u001b[0m\u001b[0mget_loc\u001b[0m\u001b[0;34m(\u001b[0m\u001b[0mcasted_key\u001b[0m\u001b[0;34m)\u001b[0m\u001b[0;34m\u001b[0m\u001b[0;34m\u001b[0m\u001b[0m\n\u001b[0m\u001b[1;32m   2899\u001b[0m             \u001b[0;32mexcept\u001b[0m \u001b[0mKeyError\u001b[0m \u001b[0;32mas\u001b[0m \u001b[0merr\u001b[0m\u001b[0;34m:\u001b[0m\u001b[0;34m\u001b[0m\u001b[0;34m\u001b[0m\u001b[0m\n",
            "\u001b[0;32mpandas/_libs/index.pyx\u001b[0m in \u001b[0;36mpandas._libs.index.IndexEngine.get_loc\u001b[0;34m()\u001b[0m\n",
            "\u001b[0;32mpandas/_libs/index.pyx\u001b[0m in \u001b[0;36mpandas._libs.index.IndexEngine.get_loc\u001b[0;34m()\u001b[0m\n",
            "\u001b[0;32mpandas/_libs/hashtable_class_helper.pxi\u001b[0m in \u001b[0;36mpandas._libs.hashtable.PyObjectHashTable.get_item\u001b[0;34m()\u001b[0m\n",
            "\u001b[0;32mpandas/_libs/hashtable_class_helper.pxi\u001b[0m in \u001b[0;36mpandas._libs.hashtable.PyObjectHashTable.get_item\u001b[0;34m()\u001b[0m\n",
            "\u001b[0;31mKeyError\u001b[0m: 'pred'",
            "\nThe above exception was the direct cause of the following exception:\n",
            "\u001b[0;31mKeyError\u001b[0m                                  Traceback (most recent call last)",
            "\u001b[0;32m<ipython-input-30-a150814d54d8>\u001b[0m in \u001b[0;36m<module>\u001b[0;34m()\u001b[0m\n\u001b[0;32m----> 1\u001b[0;31m \u001b[0my_test\u001b[0m \u001b[0;34m=\u001b[0m \u001b[0my_test_list\u001b[0m\u001b[0;34m[\u001b[0m\u001b[0;34m\"pred\"\u001b[0m\u001b[0;34m]\u001b[0m\u001b[0;34m\u001b[0m\u001b[0;34m\u001b[0m\u001b[0m\n\u001b[0m\u001b[1;32m      2\u001b[0m \u001b[0my_test\u001b[0m\u001b[0;34m\u001b[0m\u001b[0;34m\u001b[0m\u001b[0m\n",
            "\u001b[0;32m/usr/local/lib/python3.7/dist-packages/pandas/core/frame.py\u001b[0m in \u001b[0;36m__getitem__\u001b[0;34m(self, key)\u001b[0m\n\u001b[1;32m   2904\u001b[0m             \u001b[0;32mif\u001b[0m \u001b[0mself\u001b[0m\u001b[0;34m.\u001b[0m\u001b[0mcolumns\u001b[0m\u001b[0;34m.\u001b[0m\u001b[0mnlevels\u001b[0m \u001b[0;34m>\u001b[0m \u001b[0;36m1\u001b[0m\u001b[0;34m:\u001b[0m\u001b[0;34m\u001b[0m\u001b[0;34m\u001b[0m\u001b[0m\n\u001b[1;32m   2905\u001b[0m                 \u001b[0;32mreturn\u001b[0m \u001b[0mself\u001b[0m\u001b[0;34m.\u001b[0m\u001b[0m_getitem_multilevel\u001b[0m\u001b[0;34m(\u001b[0m\u001b[0mkey\u001b[0m\u001b[0;34m)\u001b[0m\u001b[0;34m\u001b[0m\u001b[0;34m\u001b[0m\u001b[0m\n\u001b[0;32m-> 2906\u001b[0;31m             \u001b[0mindexer\u001b[0m \u001b[0;34m=\u001b[0m \u001b[0mself\u001b[0m\u001b[0;34m.\u001b[0m\u001b[0mcolumns\u001b[0m\u001b[0;34m.\u001b[0m\u001b[0mget_loc\u001b[0m\u001b[0;34m(\u001b[0m\u001b[0mkey\u001b[0m\u001b[0;34m)\u001b[0m\u001b[0;34m\u001b[0m\u001b[0;34m\u001b[0m\u001b[0m\n\u001b[0m\u001b[1;32m   2907\u001b[0m             \u001b[0;32mif\u001b[0m \u001b[0mis_integer\u001b[0m\u001b[0;34m(\u001b[0m\u001b[0mindexer\u001b[0m\u001b[0;34m)\u001b[0m\u001b[0;34m:\u001b[0m\u001b[0;34m\u001b[0m\u001b[0;34m\u001b[0m\u001b[0m\n\u001b[1;32m   2908\u001b[0m                 \u001b[0mindexer\u001b[0m \u001b[0;34m=\u001b[0m \u001b[0;34m[\u001b[0m\u001b[0mindexer\u001b[0m\u001b[0;34m]\u001b[0m\u001b[0;34m\u001b[0m\u001b[0;34m\u001b[0m\u001b[0m\n",
            "\u001b[0;32m/usr/local/lib/python3.7/dist-packages/pandas/core/indexes/base.py\u001b[0m in \u001b[0;36mget_loc\u001b[0;34m(self, key, method, tolerance)\u001b[0m\n\u001b[1;32m   2898\u001b[0m                 \u001b[0;32mreturn\u001b[0m \u001b[0mself\u001b[0m\u001b[0;34m.\u001b[0m\u001b[0m_engine\u001b[0m\u001b[0;34m.\u001b[0m\u001b[0mget_loc\u001b[0m\u001b[0;34m(\u001b[0m\u001b[0mcasted_key\u001b[0m\u001b[0;34m)\u001b[0m\u001b[0;34m\u001b[0m\u001b[0;34m\u001b[0m\u001b[0m\n\u001b[1;32m   2899\u001b[0m             \u001b[0;32mexcept\u001b[0m \u001b[0mKeyError\u001b[0m \u001b[0;32mas\u001b[0m \u001b[0merr\u001b[0m\u001b[0;34m:\u001b[0m\u001b[0;34m\u001b[0m\u001b[0;34m\u001b[0m\u001b[0m\n\u001b[0;32m-> 2900\u001b[0;31m                 \u001b[0;32mraise\u001b[0m \u001b[0mKeyError\u001b[0m\u001b[0;34m(\u001b[0m\u001b[0mkey\u001b[0m\u001b[0;34m)\u001b[0m \u001b[0;32mfrom\u001b[0m \u001b[0merr\u001b[0m\u001b[0;34m\u001b[0m\u001b[0;34m\u001b[0m\u001b[0m\n\u001b[0m\u001b[1;32m   2901\u001b[0m \u001b[0;34m\u001b[0m\u001b[0m\n\u001b[1;32m   2902\u001b[0m         \u001b[0;32mif\u001b[0m \u001b[0mtolerance\u001b[0m \u001b[0;32mis\u001b[0m \u001b[0;32mnot\u001b[0m \u001b[0;32mNone\u001b[0m\u001b[0;34m:\u001b[0m\u001b[0;34m\u001b[0m\u001b[0;34m\u001b[0m\u001b[0m\n",
            "\u001b[0;31mKeyError\u001b[0m: 'pred'"
          ]
        }
      ]
    },
    {
      "cell_type": "code",
      "metadata": {
        "id": "-3UCe_0-IylT"
      },
      "source": [
        "prediction = model.predict(test_loader)\n",
        "predicted_labels = np.argmax(prediction, axis = 1)\n",
        "\n",
        "\n",
        "print(\"predicted_labels example 2 :\",predicted_labels[:10])\n",
        "\n",
        "for i,label in enumerate(predicted_labels) : \n",
        "    y_test[i] = category[label]\n",
        "\n",
        "y_test_list"
      ],
      "execution_count": null,
      "outputs": []
    },
    {
      "cell_type": "code",
      "metadata": {
        "id": "mejOKv25bBA-"
      },
      "source": [
        "y_test_list.to_csv('/content/drive/MyDrive/simpson-answer/test_answer2')"
      ],
      "execution_count": null,
      "outputs": []
    }
  ]
}
